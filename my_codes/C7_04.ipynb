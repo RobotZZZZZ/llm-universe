{
 "cells": [
  {
   "cell_type": "markdown",
   "metadata": {},
   "source": [
    "# 微调向量模型"
   ]
  },
  {
   "cell_type": "code",
   "execution_count": 1,
   "metadata": {
    "ExecuteTime": {
     "end_time": "2025-05-26T12:26:01.352506Z",
     "start_time": "2025-05-26T12:25:47.703508Z"
    }
   },
   "outputs": [
    {
     "name": "stdout",
     "output_type": "stream",
     "text": [
      "Looking in indexes: https://pypi.tuna.tsinghua.edu.cn/simple\n",
      "Collecting fastapi==0.110.0 (from -r requirements_extra.txt (line 1))\n",
      "  Downloading https://pypi.tuna.tsinghua.edu.cn/packages/f0/f7/ea860cb8aa18e326f411e32ab537424690a53db20de6bad73d70da611fae/fastapi-0.110.0-py3-none-any.whl (92 kB)\n",
      "     ---------------------------------------- 0.0/92.1 kB ? eta -:--:--\n",
      "     ---------------------------------------- 92.1/92.1 kB 5.5 MB/s eta 0:00:00\n",
      "Collecting gradio==4.20.0 (from -r requirements_extra.txt (line 2))\n",
      "  Downloading https://pypi.tuna.tsinghua.edu.cn/packages/28/33/c3fd084e02de63a538210beea8164fc20a09e418e358d7fcd4259751784c/gradio-4.20.0-py3-none-any.whl (17.0 MB)\n",
      "     ---------------------------------------- 0.0/17.0 MB ? eta -:--:--\n",
      "     -------------- ------------------------- 6.3/17.0 MB 33.6 MB/s eta 0:00:01\n",
      "     -------------------------- ------------ 11.7/17.0 MB 18.2 MB/s eta 0:00:01\n",
      "     --------------------------------- ----- 14.8/17.0 MB 11.5 MB/s eta 0:00:01\n",
      "     --------------------------------------  17.0/17.0 MB 14.2 MB/s eta 0:00:01\n",
      "     --------------------------------------  17.0/17.0 MB 14.2 MB/s eta 0:00:01\n",
      "     --------------------------------------  17.0/17.0 MB 14.2 MB/s eta 0:00:01\n",
      "     ---------------------------------------- 17.0/17.0 MB 9.5 MB/s eta 0:00:00\n",
      "Collecting huggingface_hub==0.21.3 (from -r requirements_extra.txt (line 3))\n",
      "  Downloading https://pypi.tuna.tsinghua.edu.cn/packages/47/8f/cf6683de320cf3873850ba48b7383db96958fe435b8e227db92119f6d867/huggingface_hub-0.21.3-py3-none-any.whl (346 kB)\n",
      "     ---------------------------------------- 0.0/346.2 kB ? eta -:--:--\n",
      "     ------------------------------------  337.9/346.2 kB 10.6 MB/s eta 0:00:01\n",
      "     -------------------------------------- 346.2/346.2 kB 4.3 MB/s eta 0:00:00\n"
     ]
    },
    {
     "name": "stderr",
     "output_type": "stream",
     "text": [
      "ERROR: Ignored the following versions that require a different python version: 5.0.0 Requires-Python >=3.10; 5.0.0b1 Requires-Python >=3.10; 5.0.0b10 Requires-Python >=3.10; 5.0.0b5 Requires-Python >=3.10; 5.0.0b6 Requires-Python >=3.10; 5.0.0b7 Requires-Python >=3.10; 5.0.0b8 Requires-Python >=3.10; 5.0.0b9 Requires-Python >=3.10; 5.0.1 Requires-Python >=3.10; 5.0.2 Requires-Python >=3.10; 5.1.0 Requires-Python >=3.10; 5.10.0 Requires-Python >=3.10; 5.11.0 Requires-Python >=3.10; 5.12.0 Requires-Python >=3.10; 5.13.0 Requires-Python >=3.10; 5.13.1 Requires-Python >=3.10; 5.13.2 Requires-Python >=3.10; 5.14.0 Requires-Python >=3.10; 5.15.0 Requires-Python >=3.10; 5.16.0 Requires-Python >=3.10; 5.16.1 Requires-Python >=3.10; 5.16.2 Requires-Python >=3.10; 5.17.0 Requires-Python >=3.10; 5.17.1 Requires-Python >=3.10; 5.18.0 Requires-Python >=3.10; 5.19.0 Requires-Python >=3.10; 5.20.0 Requires-Python >=3.10; 5.20.1 Requires-Python >=3.10; 5.21.0 Requires-Python >=3.10; 5.22.0 Requires-Python >=3.10; 5.23.0 Requires-Python >=3.10; 5.23.1 Requires-Python >=3.10; 5.23.2 Requires-Python >=3.10; 5.23.3 Requires-Python >=3.10; 5.24.0 Requires-Python >=3.10; 5.25.0 Requires-Python >=3.10; 5.25.1 Requires-Python >=3.10; 5.25.2 Requires-Python >=3.10; 5.26.0 Requires-Python >=3.10; 5.27.0 Requires-Python >=3.10; 5.27.1 Requires-Python >=3.10; 5.28.0 Requires-Python >=3.10; 5.29.0 Requires-Python >=3.10; 5.29.1 Requires-Python >=3.10; 5.3.0 Requires-Python >=3.10; 5.30.0 Requires-Python >=3.10; 5.31.0 Requires-Python >=3.10; 5.4.0 Requires-Python >=3.10; 5.5.0 Requires-Python >=3.10; 5.6.0 Requires-Python >=3.10; 5.7.0 Requires-Python >=3.10; 5.7.1 Requires-Python >=3.10; 5.8.0 Requires-Python >=3.10; 5.9.0 Requires-Python >=3.10; 5.9.1 Requires-Python >=3.10; 8.19.0 Requires-Python >=3.10; 8.20.0 Requires-Python >=3.10; 8.21.0 Requires-Python >=3.10; 8.22.0 Requires-Python >=3.10; 8.22.1 Requires-Python >=3.10; 8.22.2 Requires-Python >=3.10; 8.23.0 Requires-Python >=3.10; 8.24.0 Requires-Python >=3.10; 8.25.0 Requires-Python >=3.10; 8.26.0 Requires-Python >=3.10; 8.27.0 Requires-Python >=3.10; 8.28.0 Requires-Python >=3.10; 8.29.0 Requires-Python >=3.10; 8.30.0 Requires-Python >=3.10; 8.31.0 Requires-Python >=3.10; 8.32.0 Requires-Python >=3.10; 8.33.0 Requires-Python >=3.10; 8.34.0 Requires-Python >=3.10; 8.35.0 Requires-Python >=3.10; 8.36.0 Requires-Python >=3.10; 9.0.0 Requires-Python >=3.11; 9.0.0b1 Requires-Python >=3.11; 9.0.0b2 Requires-Python >=3.11; 9.0.1 Requires-Python >=3.11; 9.0.2 Requires-Python >=3.11; 9.1.0 Requires-Python >=3.11; 9.2.0 Requires-Python >=3.11\n",
      "ERROR: Could not find a version that satisfies the requirement ipython==8.22.2 (from versions: 0.10, 0.10.1, 0.10.2, 0.11, 0.12, 0.12.1, 0.13, 0.13.1, 0.13.2, 1.0.0, 1.1.0, 1.2.0, 1.2.1, 2.0.0, 2.1.0, 2.2.0, 2.3.0, 2.3.1, 2.4.0, 2.4.1, 3.0.0, 3.1.0, 3.2.0, 3.2.1, 3.2.2, 3.2.3, 4.0.0b1, 4.0.0, 4.0.1, 4.0.2, 4.0.3, 4.1.0rc1, 4.1.0rc2, 4.1.0, 4.1.1, 4.1.2, 4.2.0, 4.2.1, 5.0.0b1, 5.0.0b2, 5.0.0b3, 5.0.0b4, 5.0.0rc1, 5.0.0, 5.1.0, 5.2.0, 5.2.1, 5.2.2, 5.3.0, 5.4.0, 5.4.1, 5.5.0, 5.6.0, 5.7.0, 5.8.0, 5.9.0, 5.10.0, 6.0.0rc1, 6.0.0, 6.1.0, 6.2.0, 6.2.1, 6.3.0, 6.3.1, 6.4.0, 6.5.0, 7.0.0b1, 7.0.0rc1, 7.0.0, 7.0.1, 7.1.0, 7.1.1, 7.2.0, 7.3.0, 7.4.0, 7.5.0, 7.6.0, 7.6.1, 7.7.0, 7.8.0, 7.9.0, 7.10.0, 7.10.1, 7.10.2, 7.11.0, 7.11.1, 7.12.0, 7.13.0, 7.14.0, 7.15.0, 7.16.0, 7.16.1, 7.16.2, 7.16.3, 7.17.0, 7.18.0, 7.18.1, 7.19.0, 7.20.0, 7.21.0, 7.22.0, 7.23.0, 7.23.1, 7.24.0, 7.24.1, 7.25.0, 7.26.0, 7.27.0, 7.28.0, 7.29.0, 7.30.0, 7.30.1, 7.31.0, 7.31.1, 7.32.0, 7.33.0, 7.34.0, 8.0.0a1, 8.0.0b1, 8.0.0rc1, 8.0.0, 8.0.1, 8.1.0, 8.1.1, 8.2.0, 8.3.0, 8.4.0, 8.5.0, 8.6.0, 8.7.0, 8.8.0, 8.9.0, 8.10.0, 8.11.0, 8.12.0, 8.12.1, 8.12.2, 8.12.3, 8.13.0, 8.13.1, 8.13.2, 8.14.0, 8.15.0, 8.16.0, 8.16.1, 8.17.0, 8.17.1, 8.17.2, 8.18.0, 8.18.1)\n",
      "ERROR: No matching distribution found for ipython==8.22.2\n",
      "\n",
      "[notice] A new release of pip is available: 23.2.1 -> 25.1.1\n",
      "[notice] To update, run: python.exe -m pip install --upgrade pip\n"
     ]
    }
   ],
   "source": [
    "# ! pip3 install -r requirements_extra.txt"
   ]
  },
  {
   "cell_type": "code",
   "execution_count": 2,
   "metadata": {
    "ExecuteTime": {
     "end_time": "2025-05-26T12:29:43.587358Z",
     "start_time": "2025-05-26T12:29:37.578038Z"
    }
   },
   "outputs": [
    {
     "name": "stdout",
     "output_type": "stream",
     "text": [
      "Looking in indexes: https://pypi.tuna.tsinghua.edu.cn/simple\n",
      "Collecting datasets==2.18.0\n",
      "  Downloading https://pypi.tuna.tsinghua.edu.cn/packages/95/fc/661a7f06e8b7d48fcbd3f55423b7ff1ac3ce59526f146fda87a1e1788ee4/datasets-2.18.0-py3-none-any.whl (510 kB)\n",
      "Collecting sentence-transformers==2.6.1\n",
      "  Downloading https://pypi.tuna.tsinghua.edu.cn/packages/ba/20/7ef81df2e07322d95332d07c1c38c597f543c1f666d689a3153ba6fa09e3/sentence_transformers-2.6.1-py3-none-any.whl (163 kB)\n",
      "Requirement already satisfied: filelock in f:\\project\\llm-universe\\.venv\\lib\\site-packages (from datasets==2.18.0) (3.18.0)\n",
      "Requirement already satisfied: numpy>=1.17 in f:\\project\\llm-universe\\.venv\\lib\\site-packages (from datasets==2.18.0) (1.26.4)\n",
      "Requirement already satisfied: pyarrow>=12.0.0 in f:\\project\\llm-universe\\.venv\\lib\\site-packages (from datasets==2.18.0) (20.0.0)\n",
      "Collecting pyarrow-hotfix (from datasets==2.18.0)\n",
      "  Downloading https://pypi.tuna.tsinghua.edu.cn/packages/2e/c3/94ade4906a2f88bc935772f59c934013b4205e773bcb4239db114a6da136/pyarrow_hotfix-0.7-py3-none-any.whl (7.9 kB)\n",
      "Collecting dill<0.3.9,>=0.3.0 (from datasets==2.18.0)\n",
      "  Downloading https://pypi.tuna.tsinghua.edu.cn/packages/c9/7a/cef76fd8438a42f96db64ddaa85280485a9c395e7df3db8158cfec1eee34/dill-0.3.8-py3-none-any.whl (116 kB)\n",
      "Requirement already satisfied: pandas in f:\\project\\llm-universe\\.venv\\lib\\site-packages (from datasets==2.18.0) (2.2.3)\n",
      "Requirement already satisfied: requests>=2.19.0 in f:\\project\\llm-universe\\.venv\\lib\\site-packages (from datasets==2.18.0) (2.32.3)\n",
      "Requirement already satisfied: tqdm>=4.62.1 in f:\\project\\llm-universe\\.venv\\lib\\site-packages (from datasets==2.18.0) (4.67.1)\n",
      "Collecting xxhash (from datasets==2.18.0)\n",
      "  Downloading https://pypi.tuna.tsinghua.edu.cn/packages/d9/6b/1c443fe6cfeb4ad1dcf231cdec96eb94fb43d6498b4469ed8b51f8b59a37/xxhash-3.5.0-cp312-cp312-win_amd64.whl (30 kB)\n",
      "Requirement already satisfied: multiprocess in f:\\project\\llm-universe\\.venv\\lib\\site-packages (from datasets==2.18.0) (0.70.18)\n",
      "Collecting fsspec<=2024.2.0,>=2023.1.0 (from fsspec[http]<=2024.2.0,>=2023.1.0->datasets==2.18.0)\n",
      "  Downloading https://pypi.tuna.tsinghua.edu.cn/packages/ad/30/2281c062222dc39328843bd1ddd30ff3005ef8e30b2fd09c4d2792766061/fsspec-2024.2.0-py3-none-any.whl (170 kB)\n",
      "Requirement already satisfied: aiohttp in f:\\project\\llm-universe\\.venv\\lib\\site-packages (from datasets==2.18.0) (3.11.18)\n",
      "Requirement already satisfied: huggingface-hub>=0.19.4 in f:\\project\\llm-universe\\.venv\\lib\\site-packages (from datasets==2.18.0) (0.31.4)\n",
      "Requirement already satisfied: packaging in f:\\project\\llm-universe\\.venv\\lib\\site-packages (from datasets==2.18.0) (24.2)\n",
      "Requirement already satisfied: pyyaml>=5.1 in f:\\project\\llm-universe\\.venv\\lib\\site-packages (from datasets==2.18.0) (6.0.2)\n",
      "Requirement already satisfied: transformers<5.0.0,>=4.32.0 in f:\\project\\llm-universe\\.venv\\lib\\site-packages (from sentence-transformers==2.6.1) (4.52.3)\n",
      "Requirement already satisfied: torch>=1.11.0 in f:\\project\\llm-universe\\.venv\\lib\\site-packages (from sentence-transformers==2.6.1) (2.7.0)\n",
      "Requirement already satisfied: scikit-learn in f:\\project\\llm-universe\\.venv\\lib\\site-packages (from sentence-transformers==2.6.1) (1.6.1)\n",
      "Requirement already satisfied: scipy in f:\\project\\llm-universe\\.venv\\lib\\site-packages (from sentence-transformers==2.6.1) (1.15.3)\n",
      "Requirement already satisfied: Pillow in f:\\project\\llm-universe\\.venv\\lib\\site-packages (from sentence-transformers==2.6.1) (11.2.1)\n",
      "Requirement already satisfied: aiohappyeyeballs>=2.3.0 in f:\\project\\llm-universe\\.venv\\lib\\site-packages (from aiohttp->datasets==2.18.0) (2.6.1)\n",
      "Requirement already satisfied: aiosignal>=1.1.2 in f:\\project\\llm-universe\\.venv\\lib\\site-packages (from aiohttp->datasets==2.18.0) (1.3.2)\n",
      "Requirement already satisfied: attrs>=17.3.0 in f:\\project\\llm-universe\\.venv\\lib\\site-packages (from aiohttp->datasets==2.18.0) (25.3.0)\n",
      "Requirement already satisfied: frozenlist>=1.1.1 in f:\\project\\llm-universe\\.venv\\lib\\site-packages (from aiohttp->datasets==2.18.0) (1.6.0)\n",
      "Requirement already satisfied: multidict<7.0,>=4.5 in f:\\project\\llm-universe\\.venv\\lib\\site-packages (from aiohttp->datasets==2.18.0) (6.4.4)\n",
      "Requirement already satisfied: propcache>=0.2.0 in f:\\project\\llm-universe\\.venv\\lib\\site-packages (from aiohttp->datasets==2.18.0) (0.3.1)\n",
      "Requirement already satisfied: yarl<2.0,>=1.17.0 in f:\\project\\llm-universe\\.venv\\lib\\site-packages (from aiohttp->datasets==2.18.0) (1.20.0)\n",
      "Requirement already satisfied: typing-extensions>=3.7.4.3 in f:\\project\\llm-universe\\.venv\\lib\\site-packages (from huggingface-hub>=0.19.4->datasets==2.18.0) (4.13.2)\n",
      "Requirement already satisfied: charset-normalizer<4,>=2 in f:\\project\\llm-universe\\.venv\\lib\\site-packages (from requests>=2.19.0->datasets==2.18.0) (3.4.2)\n",
      "Requirement already satisfied: idna<4,>=2.5 in f:\\project\\llm-universe\\.venv\\lib\\site-packages (from requests>=2.19.0->datasets==2.18.0) (3.10)\n",
      "Requirement already satisfied: urllib3<3,>=1.21.1 in f:\\project\\llm-universe\\.venv\\lib\\site-packages (from requests>=2.19.0->datasets==2.18.0) (2.4.0)\n",
      "Requirement already satisfied: certifi>=2017.4.17 in f:\\project\\llm-universe\\.venv\\lib\\site-packages (from requests>=2.19.0->datasets==2.18.0) (2025.4.26)\n",
      "Requirement already satisfied: sympy>=1.13.3 in f:\\project\\llm-universe\\.venv\\lib\\site-packages (from torch>=1.11.0->sentence-transformers==2.6.1) (1.14.0)\n",
      "Requirement already satisfied: networkx in f:\\project\\llm-universe\\.venv\\lib\\site-packages (from torch>=1.11.0->sentence-transformers==2.6.1) (3.4.2)\n",
      "Requirement already satisfied: jinja2 in f:\\project\\llm-universe\\.venv\\lib\\site-packages (from torch>=1.11.0->sentence-transformers==2.6.1) (3.1.6)\n",
      "Requirement already satisfied: setuptools in f:\\project\\llm-universe\\.venv\\lib\\site-packages (from torch>=1.11.0->sentence-transformers==2.6.1) (80.8.0)\n",
      "Requirement already satisfied: colorama in f:\\project\\llm-universe\\.venv\\lib\\site-packages (from tqdm>=4.62.1->datasets==2.18.0) (0.4.6)\n",
      "Requirement already satisfied: regex!=2019.12.17 in f:\\project\\llm-universe\\.venv\\lib\\site-packages (from transformers<5.0.0,>=4.32.0->sentence-transformers==2.6.1) (2024.11.6)\n",
      "Requirement already satisfied: tokenizers<0.22,>=0.21 in f:\\project\\llm-universe\\.venv\\lib\\site-packages (from transformers<5.0.0,>=4.32.0->sentence-transformers==2.6.1) (0.21.1)\n",
      "Requirement already satisfied: safetensors>=0.4.3 in f:\\project\\llm-universe\\.venv\\lib\\site-packages (from transformers<5.0.0,>=4.32.0->sentence-transformers==2.6.1) (0.5.3)\n",
      "INFO: pip is looking at multiple versions of multiprocess to determine which version is compatible with other requirements. This could take a while.\n",
      "Collecting multiprocess (from datasets==2.18.0)\n",
      "  Downloading https://pypi.tuna.tsinghua.edu.cn/packages/a4/69/d3f343a61a2f86ef10ed7865a26beda7c71554136ce187b0384b1c2c9ca3/multiprocess-0.70.17-py312-none-any.whl (147 kB)\n",
      "  Downloading https://pypi.tuna.tsinghua.edu.cn/packages/0a/7d/a988f258104dcd2ccf1ed40fdc97e26c4ac351eeaf81d76e266c52d84e2f/multiprocess-0.70.16-py312-none-any.whl (146 kB)\n",
      "Requirement already satisfied: python-dateutil>=2.8.2 in f:\\project\\llm-universe\\.venv\\lib\\site-packages (from pandas->datasets==2.18.0) (2.9.0.post0)\n",
      "Requirement already satisfied: pytz>=2020.1 in f:\\project\\llm-universe\\.venv\\lib\\site-packages (from pandas->datasets==2.18.0) (2025.2)\n",
      "Requirement already satisfied: tzdata>=2022.7 in f:\\project\\llm-universe\\.venv\\lib\\site-packages (from pandas->datasets==2.18.0) (2025.2)\n",
      "Requirement already satisfied: joblib>=1.2.0 in f:\\project\\llm-universe\\.venv\\lib\\site-packages (from scikit-learn->sentence-transformers==2.6.1) (1.5.0)\n",
      "Requirement already satisfied: threadpoolctl>=3.1.0 in f:\\project\\llm-universe\\.venv\\lib\\site-packages (from scikit-learn->sentence-transformers==2.6.1) (3.6.0)\n",
      "Requirement already satisfied: six>=1.5 in f:\\project\\llm-universe\\.venv\\lib\\site-packages (from python-dateutil>=2.8.2->pandas->datasets==2.18.0) (1.17.0)\n",
      "Requirement already satisfied: mpmath<1.4,>=1.1.0 in f:\\project\\llm-universe\\.venv\\lib\\site-packages (from sympy>=1.13.3->torch>=1.11.0->sentence-transformers==2.6.1) (1.3.0)\n",
      "Requirement already satisfied: MarkupSafe>=2.0 in f:\\project\\llm-universe\\.venv\\lib\\site-packages (from jinja2->torch>=1.11.0->sentence-transformers==2.6.1) (3.0.2)\n",
      "Installing collected packages: xxhash, pyarrow-hotfix, fsspec, dill, multiprocess, datasets, sentence-transformers\n",
      "  Attempting uninstall: fsspec\n",
      "    Found existing installation: fsspec 2025.3.2\n",
      "    Uninstalling fsspec-2025.3.2:\n",
      "      Successfully uninstalled fsspec-2025.3.2\n",
      "  Attempting uninstall: dill\n",
      "    Found existing installation: dill 0.4.0\n",
      "    Uninstalling dill-0.4.0:\n",
      "      Successfully uninstalled dill-0.4.0\n",
      "  Attempting uninstall: multiprocess\n",
      "    Found existing installation: multiprocess 0.70.18\n",
      "    Uninstalling multiprocess-0.70.18:\n",
      "      Successfully uninstalled multiprocess-0.70.18\n",
      "  Attempting uninstall: sentence-transformers\n",
      "    Found existing installation: sentence-transformers 4.1.0\n",
      "    Uninstalling sentence-transformers-4.1.0:\n",
      "      Successfully uninstalled sentence-transformers-4.1.0\n",
      "Successfully installed datasets-2.18.0 dill-0.3.8 fsspec-2024.2.0 multiprocess-0.70.16 pyarrow-hotfix-0.7 sentence-transformers-2.6.1 xxhash-3.5.0\n"
     ]
    },
    {
     "name": "stderr",
     "output_type": "stream",
     "text": [
      "\n",
      "[notice] A new release of pip is available: 24.2 -> 25.1.1\n",
      "[notice] To update, run: python.exe -m pip install --upgrade pip\n"
     ]
    }
   ],
   "source": [
    "# ! pip3 install datasets==2.18.0 sentence-transformers==2.6.1"
   ]
  },
  {
   "cell_type": "code",
   "execution_count": 4,
   "metadata": {
    "ExecuteTime": {
     "end_time": "2025-05-26T12:30:54.411341Z",
     "start_time": "2025-05-26T12:30:51.885268Z"
    }
   },
   "outputs": [
    {
     "name": "stdout",
     "output_type": "stream",
     "text": [
      "Looking in indexes: https://pypi.tuna.tsinghua.edu.cn/simple\n",
      "Requirement already satisfied: jupyter in f:\\project\\llm-universe\\.venv\\lib\\site-packages (1.1.1)\n",
      "Requirement already satisfied: ipywidgets in f:\\project\\llm-universe\\.venv\\lib\\site-packages (8.1.7)\n",
      "Requirement already satisfied: notebook in f:\\project\\llm-universe\\.venv\\lib\\site-packages (from jupyter) (7.4.2)\n",
      "Requirement already satisfied: jupyter-console in f:\\project\\llm-universe\\.venv\\lib\\site-packages (from jupyter) (6.6.3)\n",
      "Requirement already satisfied: nbconvert in f:\\project\\llm-universe\\.venv\\lib\\site-packages (from jupyter) (7.16.6)\n",
      "Requirement already satisfied: ipykernel in f:\\project\\llm-universe\\.venv\\lib\\site-packages (from jupyter) (6.29.5)\n",
      "Requirement already satisfied: jupyterlab in f:\\project\\llm-universe\\.venv\\lib\\site-packages (from jupyter) (4.4.3)\n",
      "Requirement already satisfied: comm>=0.1.3 in f:\\project\\llm-universe\\.venv\\lib\\site-packages (from ipywidgets) (0.2.2)\n",
      "Requirement already satisfied: ipython>=6.1.0 in f:\\project\\llm-universe\\.venv\\lib\\site-packages (from ipywidgets) (9.2.0)\n",
      "Requirement already satisfied: traitlets>=4.3.1 in f:\\project\\llm-universe\\.venv\\lib\\site-packages (from ipywidgets) (5.14.3)\n",
      "Requirement already satisfied: widgetsnbextension~=4.0.14 in f:\\project\\llm-universe\\.venv\\lib\\site-packages (from ipywidgets) (4.0.14)\n",
      "Requirement already satisfied: jupyterlab_widgets~=3.0.15 in f:\\project\\llm-universe\\.venv\\lib\\site-packages (from ipywidgets) (3.0.15)\n",
      "Requirement already satisfied: colorama in f:\\project\\llm-universe\\.venv\\lib\\site-packages (from ipython>=6.1.0->ipywidgets) (0.4.6)\n",
      "Requirement already satisfied: decorator in f:\\project\\llm-universe\\.venv\\lib\\site-packages (from ipython>=6.1.0->ipywidgets) (5.2.1)\n",
      "Requirement already satisfied: ipython-pygments-lexers in f:\\project\\llm-universe\\.venv\\lib\\site-packages (from ipython>=6.1.0->ipywidgets) (1.1.1)\n",
      "Requirement already satisfied: jedi>=0.16 in f:\\project\\llm-universe\\.venv\\lib\\site-packages (from ipython>=6.1.0->ipywidgets) (0.19.2)\n",
      "Requirement already satisfied: matplotlib-inline in f:\\project\\llm-universe\\.venv\\lib\\site-packages (from ipython>=6.1.0->ipywidgets) (0.1.7)\n",
      "Requirement already satisfied: prompt_toolkit<3.1.0,>=3.0.41 in f:\\project\\llm-universe\\.venv\\lib\\site-packages (from ipython>=6.1.0->ipywidgets) (3.0.51)\n",
      "Requirement already satisfied: pygments>=2.4.0 in f:\\project\\llm-universe\\.venv\\lib\\site-packages (from ipython>=6.1.0->ipywidgets) (2.19.1)\n",
      "Requirement already satisfied: stack_data in f:\\project\\llm-universe\\.venv\\lib\\site-packages (from ipython>=6.1.0->ipywidgets) (0.6.3)\n",
      "Requirement already satisfied: debugpy>=1.6.5 in f:\\project\\llm-universe\\.venv\\lib\\site-packages (from ipykernel->jupyter) (1.8.14)\n",
      "Requirement already satisfied: jupyter-client>=6.1.12 in f:\\project\\llm-universe\\.venv\\lib\\site-packages (from ipykernel->jupyter) (8.6.3)\n",
      "Requirement already satisfied: jupyter-core!=5.0.*,>=4.12 in f:\\project\\llm-universe\\.venv\\lib\\site-packages (from ipykernel->jupyter) (5.7.2)\n",
      "Requirement already satisfied: nest-asyncio in f:\\project\\llm-universe\\.venv\\lib\\site-packages (from ipykernel->jupyter) (1.6.0)\n",
      "Requirement already satisfied: packaging in f:\\project\\llm-universe\\.venv\\lib\\site-packages (from ipykernel->jupyter) (24.2)\n",
      "Requirement already satisfied: psutil in f:\\project\\llm-universe\\.venv\\lib\\site-packages (from ipykernel->jupyter) (7.0.0)\n",
      "Requirement already satisfied: pyzmq>=24 in f:\\project\\llm-universe\\.venv\\lib\\site-packages (from ipykernel->jupyter) (26.4.0)\n",
      "Requirement already satisfied: tornado>=6.1 in f:\\project\\llm-universe\\.venv\\lib\\site-packages (from ipykernel->jupyter) (6.5)\n",
      "Requirement already satisfied: async-lru>=1.0.0 in f:\\project\\llm-universe\\.venv\\lib\\site-packages (from jupyterlab->jupyter) (2.0.5)\n",
      "Requirement already satisfied: httpx>=0.25.0 in f:\\project\\llm-universe\\.venv\\lib\\site-packages (from jupyterlab->jupyter) (0.28.1)\n",
      "Requirement already satisfied: jinja2>=3.0.3 in f:\\project\\llm-universe\\.venv\\lib\\site-packages (from jupyterlab->jupyter) (3.1.6)\n",
      "Requirement already satisfied: jupyter-lsp>=2.0.0 in f:\\project\\llm-universe\\.venv\\lib\\site-packages (from jupyterlab->jupyter) (2.2.5)\n",
      "Requirement already satisfied: jupyter-server<3,>=2.4.0 in f:\\project\\llm-universe\\.venv\\lib\\site-packages (from jupyterlab->jupyter) (2.16.0)\n",
      "Requirement already satisfied: jupyterlab-server<3,>=2.27.1 in f:\\project\\llm-universe\\.venv\\lib\\site-packages (from jupyterlab->jupyter) (2.27.3)\n",
      "Requirement already satisfied: notebook-shim>=0.2 in f:\\project\\llm-universe\\.venv\\lib\\site-packages (from jupyterlab->jupyter) (0.2.4)\n",
      "Requirement already satisfied: setuptools>=41.1.0 in f:\\project\\llm-universe\\.venv\\lib\\site-packages (from jupyterlab->jupyter) (80.8.0)\n",
      "Requirement already satisfied: beautifulsoup4 in f:\\project\\llm-universe\\.venv\\lib\\site-packages (from nbconvert->jupyter) (4.13.4)\n",
      "Requirement already satisfied: bleach!=5.0.0 in f:\\project\\llm-universe\\.venv\\lib\\site-packages (from bleach[css]!=5.0.0->nbconvert->jupyter) (6.2.0)\n",
      "Requirement already satisfied: defusedxml in f:\\project\\llm-universe\\.venv\\lib\\site-packages (from nbconvert->jupyter) (0.7.1)\n",
      "Requirement already satisfied: jupyterlab-pygments in f:\\project\\llm-universe\\.venv\\lib\\site-packages (from nbconvert->jupyter) (0.3.0)\n",
      "Requirement already satisfied: markupsafe>=2.0 in f:\\project\\llm-universe\\.venv\\lib\\site-packages (from nbconvert->jupyter) (3.0.2)\n",
      "Requirement already satisfied: mistune<4,>=2.0.3 in f:\\project\\llm-universe\\.venv\\lib\\site-packages (from nbconvert->jupyter) (3.1.3)\n",
      "Requirement already satisfied: nbclient>=0.5.0 in f:\\project\\llm-universe\\.venv\\lib\\site-packages (from nbconvert->jupyter) (0.10.2)\n",
      "Requirement already satisfied: nbformat>=5.7 in f:\\project\\llm-universe\\.venv\\lib\\site-packages (from nbconvert->jupyter) (5.10.4)\n",
      "Requirement already satisfied: pandocfilters>=1.4.1 in f:\\project\\llm-universe\\.venv\\lib\\site-packages (from nbconvert->jupyter) (1.5.1)\n",
      "Requirement already satisfied: webencodings in f:\\project\\llm-universe\\.venv\\lib\\site-packages (from bleach!=5.0.0->bleach[css]!=5.0.0->nbconvert->jupyter) (0.5.1)\n",
      "Requirement already satisfied: tinycss2<1.5,>=1.1.0 in f:\\project\\llm-universe\\.venv\\lib\\site-packages (from bleach[css]!=5.0.0->nbconvert->jupyter) (1.4.0)\n",
      "Requirement already satisfied: anyio in f:\\project\\llm-universe\\.venv\\lib\\site-packages (from httpx>=0.25.0->jupyterlab->jupyter) (4.9.0)\n",
      "Requirement already satisfied: certifi in f:\\project\\llm-universe\\.venv\\lib\\site-packages (from httpx>=0.25.0->jupyterlab->jupyter) (2025.4.26)\n",
      "Requirement already satisfied: httpcore==1.* in f:\\project\\llm-universe\\.venv\\lib\\site-packages (from httpx>=0.25.0->jupyterlab->jupyter) (1.0.9)\n",
      "Requirement already satisfied: idna in f:\\project\\llm-universe\\.venv\\lib\\site-packages (from httpx>=0.25.0->jupyterlab->jupyter) (3.10)\n",
      "Requirement already satisfied: h11>=0.16 in f:\\project\\llm-universe\\.venv\\lib\\site-packages (from httpcore==1.*->httpx>=0.25.0->jupyterlab->jupyter) (0.16.0)\n",
      "Requirement already satisfied: parso<0.9.0,>=0.8.4 in f:\\project\\llm-universe\\.venv\\lib\\site-packages (from jedi>=0.16->ipython>=6.1.0->ipywidgets) (0.8.4)\n",
      "Requirement already satisfied: python-dateutil>=2.8.2 in f:\\project\\llm-universe\\.venv\\lib\\site-packages (from jupyter-client>=6.1.12->ipykernel->jupyter) (2.9.0.post0)\n",
      "Requirement already satisfied: platformdirs>=2.5 in f:\\project\\llm-universe\\.venv\\lib\\site-packages (from jupyter-core!=5.0.*,>=4.12->ipykernel->jupyter) (4.3.8)\n",
      "Requirement already satisfied: pywin32>=300 in f:\\project\\llm-universe\\.venv\\lib\\site-packages (from jupyter-core!=5.0.*,>=4.12->ipykernel->jupyter) (310)\n",
      "Requirement already satisfied: argon2-cffi>=21.1 in f:\\project\\llm-universe\\.venv\\lib\\site-packages (from jupyter-server<3,>=2.4.0->jupyterlab->jupyter) (23.1.0)\n",
      "Requirement already satisfied: jupyter-events>=0.11.0 in f:\\project\\llm-universe\\.venv\\lib\\site-packages (from jupyter-server<3,>=2.4.0->jupyterlab->jupyter) (0.12.0)\n",
      "Requirement already satisfied: jupyter-server-terminals>=0.4.4 in f:\\project\\llm-universe\\.venv\\lib\\site-packages (from jupyter-server<3,>=2.4.0->jupyterlab->jupyter) (0.5.3)\n",
      "Requirement already satisfied: overrides>=5.0 in f:\\project\\llm-universe\\.venv\\lib\\site-packages (from jupyter-server<3,>=2.4.0->jupyterlab->jupyter) (7.7.0)\n",
      "Requirement already satisfied: prometheus-client>=0.9 in f:\\project\\llm-universe\\.venv\\lib\\site-packages (from jupyter-server<3,>=2.4.0->jupyterlab->jupyter) (0.22.0)\n",
      "Requirement already satisfied: pywinpty>=2.0.1 in f:\\project\\llm-universe\\.venv\\lib\\site-packages (from jupyter-server<3,>=2.4.0->jupyterlab->jupyter) (2.0.15)\n",
      "Requirement already satisfied: send2trash>=1.8.2 in f:\\project\\llm-universe\\.venv\\lib\\site-packages (from jupyter-server<3,>=2.4.0->jupyterlab->jupyter) (1.8.3)\n",
      "Requirement already satisfied: terminado>=0.8.3 in f:\\project\\llm-universe\\.venv\\lib\\site-packages (from jupyter-server<3,>=2.4.0->jupyterlab->jupyter) (0.18.1)\n",
      "Requirement already satisfied: websocket-client>=1.7 in f:\\project\\llm-universe\\.venv\\lib\\site-packages (from jupyter-server<3,>=2.4.0->jupyterlab->jupyter) (1.8.0)\n",
      "Requirement already satisfied: babel>=2.10 in f:\\project\\llm-universe\\.venv\\lib\\site-packages (from jupyterlab-server<3,>=2.27.1->jupyterlab->jupyter) (2.17.0)\n",
      "Requirement already satisfied: json5>=0.9.0 in f:\\project\\llm-universe\\.venv\\lib\\site-packages (from jupyterlab-server<3,>=2.27.1->jupyterlab->jupyter) (0.12.0)\n",
      "Requirement already satisfied: jsonschema>=4.18.0 in f:\\project\\llm-universe\\.venv\\lib\\site-packages (from jupyterlab-server<3,>=2.27.1->jupyterlab->jupyter) (4.23.0)\n",
      "Requirement already satisfied: requests>=2.31 in f:\\project\\llm-universe\\.venv\\lib\\site-packages (from jupyterlab-server<3,>=2.27.1->jupyterlab->jupyter) (2.32.3)\n",
      "Requirement already satisfied: fastjsonschema>=2.15 in f:\\project\\llm-universe\\.venv\\lib\\site-packages (from nbformat>=5.7->nbconvert->jupyter) (2.21.1)\n",
      "Requirement already satisfied: wcwidth in f:\\project\\llm-universe\\.venv\\lib\\site-packages (from prompt_toolkit<3.1.0,>=3.0.41->ipython>=6.1.0->ipywidgets) (0.2.13)\n",
      "Requirement already satisfied: soupsieve>1.2 in f:\\project\\llm-universe\\.venv\\lib\\site-packages (from beautifulsoup4->nbconvert->jupyter) (2.7)\n",
      "Requirement already satisfied: typing-extensions>=4.0.0 in f:\\project\\llm-universe\\.venv\\lib\\site-packages (from beautifulsoup4->nbconvert->jupyter) (4.13.2)\n",
      "Requirement already satisfied: executing>=1.2.0 in f:\\project\\llm-universe\\.venv\\lib\\site-packages (from stack_data->ipython>=6.1.0->ipywidgets) (2.2.0)\n",
      "Requirement already satisfied: asttokens>=2.1.0 in f:\\project\\llm-universe\\.venv\\lib\\site-packages (from stack_data->ipython>=6.1.0->ipywidgets) (3.0.0)\n",
      "Requirement already satisfied: pure-eval in f:\\project\\llm-universe\\.venv\\lib\\site-packages (from stack_data->ipython>=6.1.0->ipywidgets) (0.2.3)\n",
      "Requirement already satisfied: sniffio>=1.1 in f:\\project\\llm-universe\\.venv\\lib\\site-packages (from anyio->httpx>=0.25.0->jupyterlab->jupyter) (1.3.1)\n",
      "Requirement already satisfied: argon2-cffi-bindings in f:\\project\\llm-universe\\.venv\\lib\\site-packages (from argon2-cffi>=21.1->jupyter-server<3,>=2.4.0->jupyterlab->jupyter) (21.2.0)\n",
      "Requirement already satisfied: attrs>=22.2.0 in f:\\project\\llm-universe\\.venv\\lib\\site-packages (from jsonschema>=4.18.0->jupyterlab-server<3,>=2.27.1->jupyterlab->jupyter) (25.3.0)\n",
      "Requirement already satisfied: jsonschema-specifications>=2023.03.6 in f:\\project\\llm-universe\\.venv\\lib\\site-packages (from jsonschema>=4.18.0->jupyterlab-server<3,>=2.27.1->jupyterlab->jupyter) (2025.4.1)\n",
      "Requirement already satisfied: referencing>=0.28.4 in f:\\project\\llm-universe\\.venv\\lib\\site-packages (from jsonschema>=4.18.0->jupyterlab-server<3,>=2.27.1->jupyterlab->jupyter) (0.36.2)\n",
      "Requirement already satisfied: rpds-py>=0.7.1 in f:\\project\\llm-universe\\.venv\\lib\\site-packages (from jsonschema>=4.18.0->jupyterlab-server<3,>=2.27.1->jupyterlab->jupyter) (0.25.0)\n",
      "Requirement already satisfied: python-json-logger>=2.0.4 in f:\\project\\llm-universe\\.venv\\lib\\site-packages (from jupyter-events>=0.11.0->jupyter-server<3,>=2.4.0->jupyterlab->jupyter) (3.3.0)\n",
      "Requirement already satisfied: pyyaml>=5.3 in f:\\project\\llm-universe\\.venv\\lib\\site-packages (from jupyter-events>=0.11.0->jupyter-server<3,>=2.4.0->jupyterlab->jupyter) (6.0.2)\n",
      "Requirement already satisfied: rfc3339-validator in f:\\project\\llm-universe\\.venv\\lib\\site-packages (from jupyter-events>=0.11.0->jupyter-server<3,>=2.4.0->jupyterlab->jupyter) (0.1.4)\n",
      "Requirement already satisfied: rfc3986-validator>=0.1.1 in f:\\project\\llm-universe\\.venv\\lib\\site-packages (from jupyter-events>=0.11.0->jupyter-server<3,>=2.4.0->jupyterlab->jupyter) (0.1.1)\n",
      "Requirement already satisfied: six>=1.5 in f:\\project\\llm-universe\\.venv\\lib\\site-packages (from python-dateutil>=2.8.2->jupyter-client>=6.1.12->ipykernel->jupyter) (1.17.0)\n",
      "Requirement already satisfied: charset-normalizer<4,>=2 in f:\\project\\llm-universe\\.venv\\lib\\site-packages (from requests>=2.31->jupyterlab-server<3,>=2.27.1->jupyterlab->jupyter) (3.4.2)\n",
      "Requirement already satisfied: urllib3<3,>=1.21.1 in f:\\project\\llm-universe\\.venv\\lib\\site-packages (from requests>=2.31->jupyterlab-server<3,>=2.27.1->jupyterlab->jupyter) (2.4.0)\n",
      "Requirement already satisfied: fqdn in f:\\project\\llm-universe\\.venv\\lib\\site-packages (from jsonschema[format-nongpl]>=4.18.0->jupyter-events>=0.11.0->jupyter-server<3,>=2.4.0->jupyterlab->jupyter) (1.5.1)\n",
      "Requirement already satisfied: isoduration in f:\\project\\llm-universe\\.venv\\lib\\site-packages (from jsonschema[format-nongpl]>=4.18.0->jupyter-events>=0.11.0->jupyter-server<3,>=2.4.0->jupyterlab->jupyter) (20.11.0)\n",
      "Requirement already satisfied: jsonpointer>1.13 in f:\\project\\llm-universe\\.venv\\lib\\site-packages (from jsonschema[format-nongpl]>=4.18.0->jupyter-events>=0.11.0->jupyter-server<3,>=2.4.0->jupyterlab->jupyter) (3.0.0)\n",
      "Requirement already satisfied: uri-template in f:\\project\\llm-universe\\.venv\\lib\\site-packages (from jsonschema[format-nongpl]>=4.18.0->jupyter-events>=0.11.0->jupyter-server<3,>=2.4.0->jupyterlab->jupyter) (1.3.0)\n",
      "Requirement already satisfied: webcolors>=24.6.0 in f:\\project\\llm-universe\\.venv\\lib\\site-packages (from jsonschema[format-nongpl]>=4.18.0->jupyter-events>=0.11.0->jupyter-server<3,>=2.4.0->jupyterlab->jupyter) (24.11.1)\n",
      "Requirement already satisfied: cffi>=1.0.1 in f:\\project\\llm-universe\\.venv\\lib\\site-packages (from argon2-cffi-bindings->argon2-cffi>=21.1->jupyter-server<3,>=2.4.0->jupyterlab->jupyter) (1.17.1)\n",
      "Requirement already satisfied: pycparser in f:\\project\\llm-universe\\.venv\\lib\\site-packages (from cffi>=1.0.1->argon2-cffi-bindings->argon2-cffi>=21.1->jupyter-server<3,>=2.4.0->jupyterlab->jupyter) (2.22)\n",
      "Requirement already satisfied: arrow>=0.15.0 in f:\\project\\llm-universe\\.venv\\lib\\site-packages (from isoduration->jsonschema[format-nongpl]>=4.18.0->jupyter-events>=0.11.0->jupyter-server<3,>=2.4.0->jupyterlab->jupyter) (1.3.0)\n",
      "Requirement already satisfied: types-python-dateutil>=2.8.10 in f:\\project\\llm-universe\\.venv\\lib\\site-packages (from arrow>=0.15.0->isoduration->jsonschema[format-nongpl]>=4.18.0->jupyter-events>=0.11.0->jupyter-server<3,>=2.4.0->jupyterlab->jupyter) (2.9.0.20250516)\n"
     ]
    },
    {
     "name": "stderr",
     "output_type": "stream",
     "text": [
      "\n",
      "[notice] A new release of pip is available: 24.2 -> 25.1.1\n",
      "[notice] To update, run: python.exe -m pip install --upgrade pip\n"
     ]
    }
   ],
   "source": [
    "# ! pip3 install jupyter ipywidgets"
   ]
  },
  {
   "cell_type": "markdown",
   "metadata": {},
   "source": [
    "# 一、使用Sentence Transformers微调向量模型"
   ]
  },
  {
   "cell_type": "markdown",
   "metadata": {},
   "source": [
    "## 1.1 句对样本"
   ]
  },
  {
   "cell_type": "code",
   "execution_count": 5,
   "metadata": {
    "ExecuteTime": {
     "end_time": "2025-05-26T12:31:03.073138Z",
     "start_time": "2025-05-26T12:31:03.064648Z"
    }
   },
   "outputs": [
    {
     "name": "stdout",
     "output_type": "stream",
     "text": [
      "{'sequence': ['Datawhale是什么?', 'Datawhale是一个专注于数据科学与AI领域的开源组织。']}\n"
     ]
    }
   ],
   "source": [
    "from datasets import Dataset\n",
    "sequence = [\n",
    "    ['Datawhale是什么?','Datawhale是一个专注于数据科学与AI领域的开源组织。'],\n",
    "    ['llm_universe是什么?','llm_universe是一个面向小白开发者的大模型应用开发教程。']\n",
    "]\n",
    "\n",
    "ds = Dataset.from_dict({\"sequence\": sequence})\n",
    "print(ds[0])"
   ]
  },
  {
   "cell_type": "markdown",
   "metadata": {},
   "source": [
    "## 1.2 带分数的句对样本"
   ]
  },
  {
   "cell_type": "code",
   "execution_count": 6,
   "metadata": {
    "ExecuteTime": {
     "end_time": "2025-05-26T12:40:50.923786Z",
     "start_time": "2025-05-26T12:40:50.856584Z"
    }
   },
   "outputs": [
    {
     "data": {
      "text/plain": [
       "{'premise': 'Datawhale是一个专注于数据科学与AI领域的开源组织。',\n",
       " 'hypothesis': '我今天很开心！',\n",
       " 'label': 0}"
      ]
     },
     "execution_count": 6,
     "metadata": {},
     "output_type": "execute_result"
    }
   ],
   "source": [
    "premise = [\n",
    "    'Datawhale是一个专注于数据科学与AI领域的开源组织。',\n",
    "    'Datawhale是一个专注于数据科学与AI领域的开源组织。',\n",
    "    'Datawhale是一个专注于数据科学与AI领域的开源组织。'\n",
    "]\n",
    "hypothesis = [\n",
    "    '我今天很开心！',\n",
    "    '我参加了Datawhale的组队学习' ,\n",
    "    'Datawhale是一个开源组织。'\n",
    "]\n",
    "\n",
    "# 用0,1,2表示句子之间的相似程度, 分别为不相似、部分相似、相似\n",
    "label = [0, 1, 2]\n",
    "\n",
    "ds = Dataset.from_dict({\n",
    "    \"premise\": premise,\n",
    "    \"hypothesis\": hypothesis,\n",
    "    \"label\": label\n",
    "})\n",
    "ds[0]"
   ]
  },
  {
   "cell_type": "markdown",
   "metadata": {},
   "source": [
    "## 1.3 三元组"
   ]
  },
  {
   "cell_type": "code",
   "execution_count": 8,
   "metadata": {
    "ExecuteTime": {
     "end_time": "2025-05-26T12:47:03.508842Z",
     "start_time": "2025-05-26T12:47:03.500194Z"
    }
   },
   "outputs": [
    {
     "name": "stdout",
     "output_type": "stream",
     "text": [
      "{'anchor': '我该怎么学习RAG？', 'positive': '大家是怎么学习RAG的？', 'negative': 'RAG是什么？'}\n"
     ]
    }
   ],
   "source": [
    "anchor = ['我该怎么学习RAG？', '我要如何养花？']\n",
    "positive = ['大家是怎么学习RAG的？', '养花时要注意什么？']\n",
    "negative = ['RAG是什么？', '玫瑰花有多少种？']\n",
    "\n",
    "ds = Dataset.from_dict({\n",
    "    \"anchor\": anchor,\n",
    "    \"positive\": positive,\n",
    "    \"negative\": negative\n",
    "})\n",
    "print(ds[0])"
   ]
  },
  {
   "cell_type": "markdown",
   "metadata": {},
   "source": [
    "## 1.4 带有标签的单句"
   ]
  },
  {
   "cell_type": "code",
   "execution_count": 9,
   "metadata": {
    "ExecuteTime": {
     "end_time": "2025-05-26T12:49:34.901162Z",
     "start_time": "2025-05-26T12:49:34.891342Z"
    }
   },
   "outputs": [
    {
     "name": "stdout",
     "output_type": "stream",
     "text": [
      "{'question': 'Datawhale是什么?', 'label': 0}\n"
     ]
    }
   ],
   "source": [
    "question = ['Datawhale是什么?', 'llm_universe是什么?', '我今天的早餐是豆浆。', '我好想吃火锅呀！']\n",
    "# 0:计算机、互联网,1:饮食\n",
    "label = [0, 0, 1, 1]\n",
    "\n",
    "ds = Dataset.from_dict({'question': question, 'label': label})\n",
    "print(ds[0])"
   ]
  },
  {
   "cell_type": "markdown",
   "metadata": {},
   "source": [
    "# 2. 微调并评估向量模型"
   ]
  },
  {
   "cell_type": "code",
   "execution_count": 12,
   "metadata": {
    "ExecuteTime": {
     "end_time": "2025-05-26T12:57:37.028391Z",
     "start_time": "2025-05-26T12:57:34.615994Z"
    }
   },
   "outputs": [],
   "source": [
    "# 加载模型\n",
    "from sentence_transformers import SentenceTransformer\n",
    "model = SentenceTransformer(\n",
    "    model_name_or_path=\"BAAI/bge-small-zh-v1.5\",\n",
    "    device=\"cpu\",\n",
    "    cache_folder=\"./bge_small\",\n",
    "    trust_remote_code=True\n",
    ")"
   ]
  },
  {
   "cell_type": "code",
   "execution_count": 13,
   "metadata": {
    "ExecuteTime": {
     "end_time": "2025-05-26T13:02:17.397057Z",
     "start_time": "2025-05-26T13:02:05.623402Z"
    }
   },
   "outputs": [
    {
     "name": "stderr",
     "output_type": "stream",
     "text": [
      "Downloading readme: 100%|██████████| 25.0/25.0 [00:00<00:00, 25.0kB/s]\n",
      "Downloading data: 100%|██████████| 82.4k/82.4k [00:00<00:00, 146kB/s]\n",
      "Generating train split: 1000 examples [00:00, 3190.46 examples/s]"
     ]
    },
    {
     "name": "stdout",
     "output_type": "stream",
     "text": [
      "最初加载med_dataset结构为:\n",
      "DatasetDict({\n",
      "    train: Dataset({\n",
      "        features: ['question1', 'question2', 'label'],\n",
      "        num_rows: 1000\n",
      "    })\n",
      "})\n",
      "med_dataset中训练集结构为:\n",
      "Dataset({\n",
      "    features: ['question1', 'question2', 'label'],\n",
      "    num_rows: 1000\n",
      "})\n",
      "med_dataset中标签类别为:\n",
      "{0, 1}\n",
      "med_dataset训练集中第一条数据为:\n",
      "{'question1': '艾滋患者能用可善挺吗？', 'question2': 'JUNCTURE研究', 'label': 0}\n"
     ]
    },
    {
     "name": "stderr",
     "output_type": "stream",
     "text": [
      "\n"
     ]
    }
   ],
   "source": [
    "# 加载数据集\n",
    "from datasets import load_dataset\n",
    "\n",
    "dataset = load_dataset(\n",
    "    path='vegaviazhang/Med_QQpairs',\n",
    "    cache_dir='./medical'\n",
    ")\n",
    "\n",
    "# 我们可以通过打印 dataset 来了解数据集结构\n",
    "print(f\"最初加载med_dataset结构为:\\n{dataset}\")\n",
    "print(f\"med_dataset中训练集结构为:\\n{dataset['train']}\")\n",
    "\n",
    "labels = set()\n",
    "for i in range(dataset['train'].num_rows):\n",
    "    labels.add(dataset['train'][i]['label'])\n",
    "print(f\"med_dataset中标签类别为:\\n{labels}\")\n",
    "print(f\"med_dataset训练集中第一条数据为:\\n{dataset['train'][0]}\")"
   ]
  },
  {
   "cell_type": "markdown",
   "metadata": {},
   "source": [
    "$$L=\\frac{1}{n}\\sum_{i=1}^{n}\\{(1-label_i)\\frac{1}{2}(distance)^2+(label_i)\\frac{1}{2}[max(0,margin-distance)]^2\\}$$"
   ]
  },
  {
   "cell_type": "markdown",
   "metadata": {},
   "source": [
    "- 其中 `distance = 1 - 余弦相似度`"
   ]
  },
  {
   "cell_type": "code",
   "execution_count": 17,
   "metadata": {
    "ExecuteTime": {
     "end_time": "2025-05-26T13:37:09.198859Z",
     "start_time": "2025-05-26T13:33:31.518784Z"
    }
   },
   "outputs": [
    {
     "name": "stderr",
     "output_type": "stream",
     "text": [
      "Epoch:   0%|          | 0/10 [00:00<?, ?it/s]\n",
      "Iteration:   0%|          | 0/25 [00:00<?, ?it/s]\u001B[A\n",
      "Iteration:   4%|▍         | 1/25 [00:02<01:06,  2.77s/it]\u001B[A\n",
      "Iteration:   8%|▊         | 2/25 [00:03<00:43,  1.89s/it]\u001B[A\n",
      "Iteration:  12%|█▏        | 3/25 [00:04<00:33,  1.51s/it]\u001B[A\n",
      "Iteration:  16%|█▌        | 4/25 [00:05<00:26,  1.27s/it]\u001B[A\n",
      "Iteration:  20%|██        | 5/25 [00:06<00:23,  1.18s/it]\u001B[A\n",
      "Iteration:  24%|██▍       | 6/25 [00:07<00:23,  1.22s/it]\u001B[A\n",
      "Iteration:  28%|██▊       | 7/25 [00:08<00:20,  1.12s/it]\u001B[A\n",
      "Iteration:  32%|███▏      | 8/25 [00:08<00:18,  1.06s/it]\u001B[A\n",
      "Iteration:  36%|███▌      | 9/25 [00:09<00:16,  1.01s/it]\u001B[A\n",
      "Iteration:  40%|████      | 10/25 [00:10<00:14,  1.03it/s]\u001B[A\n",
      "Iteration:  44%|████▍     | 11/25 [00:10<00:13,  1.06it/s]\u001B[A\n",
      "Iteration:  48%|████▊     | 12/25 [00:11<00:11,  1.10it/s]\u001B[A\n",
      "Iteration:  52%|█████▏    | 13/25 [00:12<00:11,  1.08it/s]\u001B[A\n",
      "Iteration:  56%|█████▌    | 14/25 [00:13<00:09,  1.11it/s]\u001B[A\n",
      "Iteration:  60%|██████    | 15/25 [00:14<00:08,  1.13it/s]\u001B[A\n",
      "Iteration:  64%|██████▍   | 16/25 [00:14<00:07,  1.17it/s]\u001B[A\n",
      "Iteration:  68%|██████▊   | 17/25 [00:15<00:06,  1.17it/s]\u001B[A\n",
      "Iteration:  72%|███████▏  | 18/25 [00:16<00:05,  1.18it/s]\u001B[A\n",
      "Iteration:  76%|███████▌  | 19/25 [00:16<00:04,  1.21it/s]\u001B[A\n",
      "Iteration:  80%|████████  | 20/25 [00:17<00:04,  1.21it/s]\u001B[A\n",
      "Iteration:  84%|████████▍ | 21/25 [00:18<00:03,  1.23it/s]\u001B[A\n",
      "Iteration:  88%|████████▊ | 22/25 [00:18<00:02,  1.26it/s]\u001B[A\n",
      "Iteration:  92%|█████████▏| 23/25 [00:19<00:01,  1.25it/s]\u001B[A\n",
      "Iteration:  96%|█████████▌| 24/25 [00:20<00:00,  1.25it/s]\u001B[A\n",
      "Iteration: 100%|██████████| 25/25 [00:21<00:00,  1.18it/s]\u001B[A\n",
      "Epoch:  10%|█         | 1/10 [00:22<03:22, 22.45s/it]\n",
      "Iteration:   0%|          | 0/25 [00:00<?, ?it/s]\u001B[A\n",
      "Iteration:   4%|▍         | 1/25 [00:00<00:13,  1.82it/s]\u001B[A\n",
      "Iteration:   8%|▊         | 2/25 [00:01<00:14,  1.54it/s]\u001B[A\n",
      "Iteration:  12%|█▏        | 3/25 [00:01<00:13,  1.59it/s]\u001B[A\n",
      "Iteration:  16%|█▌        | 4/25 [00:02<00:14,  1.49it/s]\u001B[A\n",
      "Iteration:  20%|██        | 5/25 [00:03<00:13,  1.51it/s]\u001B[A\n",
      "Iteration:  24%|██▍       | 6/25 [00:04<00:12,  1.49it/s]\u001B[A\n",
      "Iteration:  28%|██▊       | 7/25 [00:04<00:12,  1.41it/s]\u001B[A\n",
      "Iteration:  32%|███▏      | 8/25 [00:05<00:11,  1.45it/s]\u001B[A\n",
      "Iteration:  36%|███▌      | 9/25 [00:06<00:11,  1.43it/s]\u001B[A\n",
      "Iteration:  40%|████      | 10/25 [00:07<00:11,  1.36it/s]\u001B[A\n",
      "Iteration:  44%|████▍     | 11/25 [00:07<00:10,  1.36it/s]\u001B[A\n",
      "Iteration:  48%|████▊     | 12/25 [00:08<00:09,  1.38it/s]\u001B[A\n",
      "Iteration:  52%|█████▏    | 13/25 [00:09<00:08,  1.38it/s]\u001B[A\n",
      "Iteration:  56%|█████▌    | 14/25 [00:09<00:07,  1.39it/s]\u001B[A\n",
      "Iteration:  60%|██████    | 15/25 [00:10<00:07,  1.37it/s]\u001B[A\n",
      "Iteration:  64%|██████▍   | 16/25 [00:11<00:06,  1.37it/s]\u001B[A\n",
      "Iteration:  68%|██████▊   | 17/25 [00:12<00:05,  1.39it/s]\u001B[A\n",
      "Iteration:  72%|███████▏  | 18/25 [00:13<00:05,  1.34it/s]\u001B[A\n",
      "Iteration:  76%|███████▌  | 19/25 [00:14<00:04,  1.29it/s]\u001B[A\n",
      "Iteration:  80%|████████  | 20/25 [00:15<00:03,  1.28it/s]\u001B[A\n",
      "Iteration:  84%|████████▍ | 21/25 [00:16<00:03,  1.24it/s]\u001B[A\n",
      "Iteration:  88%|████████▊ | 22/25 [00:17<00:02,  1.21it/s]\u001B[A\n",
      "Iteration:  92%|█████████▏| 23/25 [00:19<00:01,  1.13it/s]\u001B[A\n",
      "Iteration:  96%|█████████▌| 24/25 [00:20<00:00,  1.12it/s]\u001B[A\n",
      "Iteration: 100%|██████████| 25/25 [00:20<00:00,  1.19it/s]\u001B[A\n",
      "Epoch:  20%|██        | 2/10 [00:44<02:59, 22.38s/it]\n",
      "Iteration:   0%|          | 0/25 [00:00<?, ?it/s]\u001B[A\n",
      "Iteration:   4%|▍         | 1/25 [00:01<00:24,  1.02s/it]\u001B[A\n",
      "Iteration:   8%|▊         | 2/25 [00:02<00:23,  1.04s/it]\u001B[A\n",
      "Iteration:  12%|█▏        | 3/25 [00:02<00:19,  1.13it/s]\u001B[A\n",
      "Iteration:  16%|█▌        | 4/25 [00:03<00:17,  1.18it/s]\u001B[A\n",
      "Iteration:  20%|██        | 5/25 [00:04<00:16,  1.20it/s]\u001B[A\n",
      "Iteration:  24%|██▍       | 6/25 [00:05<00:17,  1.08it/s]\u001B[A\n",
      "Iteration:  28%|██▊       | 7/25 [00:06<00:16,  1.08it/s]\u001B[A\n",
      "Iteration:  32%|███▏      | 8/25 [00:07<00:15,  1.07it/s]\u001B[A\n",
      "Iteration:  36%|███▌      | 9/25 [00:08<00:14,  1.12it/s]\u001B[A\n",
      "Iteration:  40%|████      | 10/25 [00:08<00:12,  1.17it/s]\u001B[A\n",
      "Iteration:  44%|████▍     | 11/25 [00:09<00:11,  1.18it/s]\u001B[A\n",
      "Iteration:  48%|████▊     | 12/25 [00:10<00:11,  1.14it/s]\u001B[A\n",
      "Iteration:  52%|█████▏    | 13/25 [00:11<00:10,  1.17it/s]\u001B[A\n",
      "Iteration:  56%|█████▌    | 14/25 [00:12<00:09,  1.17it/s]\u001B[A\n",
      "Iteration:  60%|██████    | 15/25 [00:12<00:08,  1.18it/s]\u001B[A\n",
      "Iteration:  64%|██████▍   | 16/25 [00:13<00:07,  1.20it/s]\u001B[A\n",
      "Iteration:  68%|██████▊   | 17/25 [00:14<00:06,  1.22it/s]\u001B[A\n",
      "Iteration:  72%|███████▏  | 18/25 [00:15<00:05,  1.22it/s]\u001B[A\n",
      "Iteration:  76%|███████▌  | 19/25 [00:16<00:05,  1.17it/s]\u001B[A\n",
      "Iteration:  80%|████████  | 20/25 [00:17<00:04,  1.18it/s]\u001B[A\n",
      "Iteration:  84%|████████▍ | 21/25 [00:17<00:03,  1.19it/s]\u001B[A\n",
      "Iteration:  88%|████████▊ | 22/25 [00:18<00:02,  1.21it/s]\u001B[A\n",
      "Iteration:  92%|█████████▏| 23/25 [00:19<00:01,  1.23it/s]\u001B[A\n",
      "Iteration:  96%|█████████▌| 24/25 [00:19<00:00,  1.25it/s]\u001B[A\n",
      "Iteration: 100%|██████████| 25/25 [00:20<00:00,  1.22it/s]\u001B[A\n",
      "Epoch:  30%|███       | 3/10 [01:06<02:34, 22.11s/it]\n",
      "Iteration:   0%|          | 0/25 [00:00<?, ?it/s]\u001B[A\n",
      "Iteration:   4%|▍         | 1/25 [00:00<00:22,  1.06it/s]\u001B[A\n",
      "Iteration:   8%|▊         | 2/25 [00:01<00:20,  1.13it/s]\u001B[A\n",
      "Iteration:  12%|█▏        | 3/25 [00:02<00:16,  1.29it/s]\u001B[A\n",
      "Iteration:  16%|█▌        | 4/25 [00:03<00:15,  1.33it/s]\u001B[A\n",
      "Iteration:  20%|██        | 5/25 [00:03<00:14,  1.41it/s]\u001B[A\n",
      "Iteration:  24%|██▍       | 6/25 [00:04<00:13,  1.42it/s]\u001B[A\n",
      "Iteration:  28%|██▊       | 7/25 [00:05<00:12,  1.40it/s]\u001B[A\n",
      "Iteration:  32%|███▏      | 8/25 [00:05<00:12,  1.39it/s]\u001B[A\n",
      "Iteration:  36%|███▌      | 9/25 [00:06<00:11,  1.42it/s]\u001B[A\n",
      "Iteration:  40%|████      | 10/25 [00:07<00:10,  1.37it/s]\u001B[A\n",
      "Iteration:  44%|████▍     | 11/25 [00:08<00:10,  1.38it/s]\u001B[A\n",
      "Iteration:  48%|████▊     | 12/25 [00:08<00:09,  1.36it/s]\u001B[A\n",
      "Iteration:  52%|█████▏    | 13/25 [00:09<00:08,  1.34it/s]\u001B[A\n",
      "Iteration:  56%|█████▌    | 14/25 [00:10<00:08,  1.33it/s]\u001B[A\n",
      "Iteration:  60%|██████    | 15/25 [00:11<00:07,  1.33it/s]\u001B[A\n",
      "Iteration:  64%|██████▍   | 16/25 [00:12<00:06,  1.29it/s]\u001B[A\n",
      "Iteration:  68%|██████▊   | 17/25 [00:13<00:06,  1.28it/s]\u001B[A\n",
      "Iteration:  72%|███████▏  | 18/25 [00:13<00:05,  1.30it/s]\u001B[A\n",
      "Iteration:  76%|███████▌  | 19/25 [00:14<00:04,  1.30it/s]\u001B[A\n",
      "Iteration:  80%|████████  | 20/25 [00:15<00:03,  1.31it/s]\u001B[A\n",
      "Iteration:  84%|████████▍ | 21/25 [00:15<00:03,  1.32it/s]\u001B[A\n",
      "Iteration:  88%|████████▊ | 22/25 [00:16<00:02,  1.34it/s]\u001B[A\n",
      "Iteration:  92%|█████████▏| 23/25 [00:17<00:01,  1.34it/s]\u001B[A\n",
      "Iteration:  96%|█████████▌| 24/25 [00:18<00:00,  1.32it/s]\u001B[A\n",
      "Iteration: 100%|██████████| 25/25 [00:19<00:00,  1.30it/s]\u001B[A\n",
      "Epoch:  40%|████      | 4/10 [01:27<02:09, 21.58s/it]\n",
      "Iteration:   0%|          | 0/25 [00:00<?, ?it/s]\u001B[A\n",
      "Iteration:   4%|▍         | 1/25 [00:00<00:14,  1.64it/s]\u001B[A\n",
      "Iteration:   8%|▊         | 2/25 [00:01<00:16,  1.37it/s]\u001B[A\n",
      "Iteration:  12%|█▏        | 3/25 [00:02<00:16,  1.35it/s]\u001B[A\n",
      "Iteration:  16%|█▌        | 4/25 [00:03<00:16,  1.28it/s]\u001B[A\n",
      "Iteration:  20%|██        | 5/25 [00:03<00:15,  1.33it/s]\u001B[A\n",
      "Iteration:  24%|██▍       | 6/25 [00:04<00:15,  1.26it/s]\u001B[A\n",
      "Iteration:  28%|██▊       | 7/25 [00:05<00:14,  1.27it/s]\u001B[A\n",
      "Iteration:  32%|███▏      | 8/25 [00:06<00:13,  1.29it/s]\u001B[A\n",
      "Iteration:  36%|███▌      | 9/25 [00:07<00:12,  1.24it/s]\u001B[A\n",
      "Iteration:  40%|████      | 10/25 [00:08<00:12,  1.23it/s]\u001B[A\n",
      "Iteration:  44%|████▍     | 11/25 [00:08<00:11,  1.21it/s]\u001B[A\n",
      "Iteration:  48%|████▊     | 12/25 [00:09<00:10,  1.20it/s]\u001B[A\n",
      "Iteration:  52%|█████▏    | 13/25 [00:10<00:09,  1.23it/s]\u001B[A\n",
      "Iteration:  56%|█████▌    | 14/25 [00:11<00:08,  1.24it/s]\u001B[A\n",
      "Iteration:  60%|██████    | 15/25 [00:11<00:07,  1.28it/s]\u001B[A\n",
      "Iteration:  64%|██████▍   | 16/25 [00:12<00:07,  1.28it/s]\u001B[A\n",
      "Iteration:  68%|██████▊   | 17/25 [00:13<00:06,  1.26it/s]\u001B[A\n",
      "Iteration:  72%|███████▏  | 18/25 [00:14<00:05,  1.28it/s]\u001B[A\n",
      "Iteration:  76%|███████▌  | 19/25 [00:14<00:04,  1.30it/s]\u001B[A\n",
      "Iteration:  80%|████████  | 20/25 [00:15<00:03,  1.32it/s]\u001B[A\n",
      "Iteration:  84%|████████▍ | 21/25 [00:16<00:03,  1.25it/s]\u001B[A\n",
      "Iteration:  88%|████████▊ | 22/25 [00:17<00:02,  1.27it/s]\u001B[A\n",
      "Iteration:  92%|█████████▏| 23/25 [00:18<00:01,  1.28it/s]\u001B[A\n",
      "Iteration:  96%|█████████▌| 24/25 [00:18<00:00,  1.28it/s]\u001B[A\n",
      "Iteration: 100%|██████████| 25/25 [00:19<00:00,  1.27it/s]\u001B[A\n",
      "Epoch:  50%|█████     | 5/10 [01:48<01:46, 21.29s/it]\n",
      "Iteration:   0%|          | 0/25 [00:00<?, ?it/s]\u001B[A\n",
      "Iteration:   4%|▍         | 1/25 [00:00<00:15,  1.50it/s]\u001B[A\n",
      "Iteration:   8%|▊         | 2/25 [00:01<00:16,  1.41it/s]\u001B[A\n",
      "Iteration:  12%|█▏        | 3/25 [00:02<00:17,  1.24it/s]\u001B[A\n",
      "Iteration:  16%|█▌        | 4/25 [00:03<00:17,  1.23it/s]\u001B[A\n",
      "Iteration:  20%|██        | 5/25 [00:04<00:16,  1.21it/s]\u001B[A\n",
      "Iteration:  24%|██▍       | 6/25 [00:04<00:15,  1.22it/s]\u001B[A\n",
      "Iteration:  28%|██▊       | 7/25 [00:05<00:14,  1.25it/s]\u001B[A\n",
      "Iteration:  32%|███▏      | 8/25 [00:06<00:13,  1.23it/s]\u001B[A\n",
      "Iteration:  36%|███▌      | 9/25 [00:07<00:12,  1.25it/s]\u001B[A\n",
      "Iteration:  40%|████      | 10/25 [00:07<00:11,  1.30it/s]\u001B[A\n",
      "Iteration:  44%|████▍     | 11/25 [00:08<00:10,  1.30it/s]\u001B[A\n",
      "Iteration:  48%|████▊     | 12/25 [00:09<00:09,  1.33it/s]\u001B[A\n",
      "Iteration:  52%|█████▏    | 13/25 [00:09<00:08,  1.37it/s]\u001B[A\n",
      "Iteration:  56%|█████▌    | 14/25 [00:10<00:07,  1.40it/s]\u001B[A\n",
      "Iteration:  60%|██████    | 15/25 [00:11<00:07,  1.38it/s]\u001B[A\n",
      "Iteration:  64%|██████▍   | 16/25 [00:11<00:06,  1.37it/s]\u001B[A\n",
      "Iteration:  68%|██████▊   | 17/25 [00:12<00:05,  1.35it/s]\u001B[A\n",
      "Iteration:  72%|███████▏  | 18/25 [00:13<00:05,  1.36it/s]\u001B[A\n",
      "Iteration:  76%|███████▌  | 19/25 [00:14<00:04,  1.36it/s]\u001B[A\n",
      "Iteration:  80%|████████  | 20/25 [00:14<00:03,  1.35it/s]\u001B[A\n",
      "Iteration:  84%|████████▍ | 21/25 [00:15<00:02,  1.35it/s]\u001B[A\n",
      "Iteration:  88%|████████▊ | 22/25 [00:16<00:02,  1.34it/s]\u001B[A\n",
      "Iteration:  92%|█████████▏| 23/25 [00:17<00:01,  1.34it/s]\u001B[A\n",
      "Iteration:  96%|█████████▌| 24/25 [00:18<00:00,  1.28it/s]\u001B[A\n",
      "Iteration: 100%|██████████| 25/25 [00:19<00:00,  1.29it/s]\u001B[A\n",
      "Epoch:  60%|██████    | 6/10 [02:08<01:24, 21.01s/it]\n",
      "Iteration:   0%|          | 0/25 [00:00<?, ?it/s]\u001B[A\n",
      "Iteration:   4%|▍         | 1/25 [00:00<00:17,  1.36it/s]\u001B[A\n",
      "Iteration:   8%|▊         | 2/25 [00:01<00:15,  1.51it/s]\u001B[A\n",
      "Iteration:  12%|█▏        | 3/25 [00:02<00:15,  1.41it/s]\u001B[A\n",
      "Iteration:  16%|█▌        | 4/25 [00:02<00:15,  1.35it/s]\u001B[A\n",
      "Iteration:  20%|██        | 5/25 [00:03<00:14,  1.41it/s]\u001B[A\n",
      "Iteration:  24%|██▍       | 6/25 [00:04<00:13,  1.46it/s]\u001B[A\n",
      "Iteration:  28%|██▊       | 7/25 [00:05<00:12,  1.39it/s]\u001B[A\n",
      "Iteration:  32%|███▏      | 8/25 [00:05<00:12,  1.36it/s]\u001B[A\n",
      "Iteration:  36%|███▌      | 9/25 [00:06<00:11,  1.37it/s]\u001B[A\n",
      "Iteration:  40%|████      | 10/25 [00:07<00:10,  1.39it/s]\u001B[A\n",
      "Iteration:  44%|████▍     | 11/25 [00:08<00:10,  1.35it/s]\u001B[A\n",
      "Iteration:  48%|████▊     | 12/25 [00:08<00:09,  1.32it/s]\u001B[A\n",
      "Iteration:  52%|█████▏    | 13/25 [00:09<00:08,  1.34it/s]\u001B[A\n",
      "Iteration:  56%|█████▌    | 14/25 [00:10<00:08,  1.36it/s]\u001B[A\n",
      "Iteration:  60%|██████    | 15/25 [00:10<00:07,  1.37it/s]\u001B[A\n",
      "Iteration:  64%|██████▍   | 16/25 [00:11<00:06,  1.34it/s]\u001B[A\n",
      "Iteration:  68%|██████▊   | 17/25 [00:12<00:05,  1.35it/s]\u001B[A\n",
      "Iteration:  72%|███████▏  | 18/25 [00:13<00:05,  1.38it/s]\u001B[A\n",
      "Iteration:  76%|███████▌  | 19/25 [00:14<00:04,  1.31it/s]\u001B[A\n",
      "Iteration:  80%|████████  | 20/25 [00:15<00:03,  1.31it/s]\u001B[A\n",
      "Iteration:  84%|████████▍ | 21/25 [00:16<00:03,  1.28it/s]\u001B[A\n",
      "Iteration:  88%|████████▊ | 22/25 [00:16<00:02,  1.28it/s]\u001B[A\n",
      "Iteration:  92%|█████████▏| 23/25 [00:17<00:01,  1.28it/s]\u001B[A\n",
      "Iteration:  96%|█████████▌| 24/25 [00:18<00:00,  1.26it/s]\u001B[A\n",
      "Iteration: 100%|██████████| 25/25 [00:19<00:00,  1.29it/s]\u001B[A\n",
      "Epoch:  70%|███████   | 7/10 [02:28<01:02, 20.71s/it]\n",
      "Iteration:   0%|          | 0/25 [00:00<?, ?it/s]\u001B[A\n",
      "Iteration:   4%|▍         | 1/25 [00:00<00:16,  1.45it/s]\u001B[A\n",
      "Iteration:   8%|▊         | 2/25 [00:01<00:17,  1.30it/s]\u001B[A\n",
      "Iteration:  12%|█▏        | 3/25 [00:02<00:16,  1.33it/s]\u001B[A\n",
      "Iteration:  16%|█▌        | 4/25 [00:02<00:15,  1.38it/s]\u001B[A\n",
      "Iteration:  20%|██        | 5/25 [00:03<00:15,  1.30it/s]\u001B[A\n",
      "Iteration:  24%|██▍       | 6/25 [00:04<00:13,  1.37it/s]\u001B[A\n",
      "Iteration:  28%|██▊       | 7/25 [00:05<00:13,  1.36it/s]\u001B[A\n",
      "Iteration:  32%|███▏      | 8/25 [00:05<00:12,  1.36it/s]\u001B[A\n",
      "Iteration:  36%|███▌      | 9/25 [00:06<00:11,  1.36it/s]\u001B[A\n",
      "Iteration:  40%|████      | 10/25 [00:07<00:11,  1.28it/s]\u001B[A\n",
      "Iteration:  44%|████▍     | 11/25 [00:08<00:10,  1.31it/s]\u001B[A\n",
      "Iteration:  48%|████▊     | 12/25 [00:08<00:09,  1.34it/s]\u001B[A\n",
      "Iteration:  52%|█████▏    | 13/25 [00:09<00:08,  1.34it/s]\u001B[A\n",
      "Iteration:  56%|█████▌    | 14/25 [00:10<00:08,  1.37it/s]\u001B[A\n",
      "Iteration:  60%|██████    | 15/25 [00:11<00:07,  1.36it/s]\u001B[A\n",
      "Iteration:  64%|██████▍   | 16/25 [00:11<00:06,  1.36it/s]\u001B[A\n",
      "Iteration:  68%|██████▊   | 17/25 [00:12<00:05,  1.36it/s]\u001B[A\n",
      "Iteration:  72%|███████▏  | 18/25 [00:13<00:05,  1.37it/s]\u001B[A\n",
      "Iteration:  76%|███████▌  | 19/25 [00:14<00:04,  1.36it/s]\u001B[A\n",
      "Iteration:  80%|████████  | 20/25 [00:14<00:03,  1.37it/s]\u001B[A\n",
      "Iteration:  84%|████████▍ | 21/25 [00:15<00:02,  1.37it/s]\u001B[A\n",
      "Iteration:  88%|████████▊ | 22/25 [00:16<00:02,  1.37it/s]\u001B[A\n",
      "Iteration:  92%|█████████▏| 23/25 [00:17<00:01,  1.29it/s]\u001B[A\n",
      "Iteration:  96%|█████████▌| 24/25 [00:18<00:00,  1.27it/s]\u001B[A\n",
      "Iteration: 100%|██████████| 25/25 [00:19<00:00,  1.30it/s]\u001B[A\n",
      "Epoch:  80%|████████  | 8/10 [02:49<00:41, 20.74s/it]\n",
      "Iteration:   0%|          | 0/25 [00:00<?, ?it/s]\u001B[A\n",
      "Iteration:   4%|▍         | 1/25 [00:00<00:18,  1.29it/s]\u001B[A\n",
      "Iteration:   8%|▊         | 2/25 [00:01<00:16,  1.39it/s]\u001B[A\n",
      "Iteration:  12%|█▏        | 3/25 [00:02<00:16,  1.30it/s]\u001B[A\n",
      "Iteration:  16%|█▌        | 4/25 [00:03<00:17,  1.23it/s]\u001B[A\n",
      "Iteration:  20%|██        | 5/25 [00:03<00:15,  1.28it/s]\u001B[A\n",
      "Iteration:  24%|██▍       | 6/25 [00:04<00:14,  1.28it/s]\u001B[A\n",
      "Iteration:  28%|██▊       | 7/25 [00:05<00:14,  1.26it/s]\u001B[A\n",
      "Iteration:  32%|███▏      | 8/25 [00:06<00:13,  1.29it/s]\u001B[A\n",
      "Iteration:  36%|███▌      | 9/25 [00:07<00:12,  1.26it/s]\u001B[A\n",
      "Iteration:  40%|████      | 10/25 [00:07<00:11,  1.29it/s]\u001B[A\n",
      "Iteration:  44%|████▍     | 11/25 [00:08<00:10,  1.29it/s]\u001B[A\n",
      "Iteration:  48%|████▊     | 12/25 [00:09<00:10,  1.30it/s]\u001B[A\n",
      "Iteration:  52%|█████▏    | 13/25 [00:09<00:09,  1.32it/s]\u001B[A\n",
      "Iteration:  56%|█████▌    | 14/25 [00:10<00:08,  1.31it/s]\u001B[A\n",
      "Iteration:  60%|██████    | 15/25 [00:11<00:07,  1.31it/s]\u001B[A\n",
      "Iteration:  64%|██████▍   | 16/25 [00:12<00:07,  1.22it/s]\u001B[A\n",
      "Iteration:  68%|██████▊   | 17/25 [00:13<00:06,  1.24it/s]\u001B[A\n",
      "Iteration:  72%|███████▏  | 18/25 [00:14<00:05,  1.27it/s]\u001B[A\n",
      "Iteration:  76%|███████▌  | 19/25 [00:15<00:05,  1.20it/s]\u001B[A\n",
      "Iteration:  80%|████████  | 20/25 [00:16<00:04,  1.19it/s]\u001B[A\n",
      "Iteration:  84%|████████▍ | 21/25 [00:17<00:03,  1.20it/s]\u001B[A\n",
      "Iteration:  88%|████████▊ | 22/25 [00:18<00:02,  1.17it/s]\u001B[A\n",
      "Iteration:  92%|█████████▏| 23/25 [00:19<00:01,  1.17it/s]\u001B[A\n",
      "Iteration:  96%|█████████▌| 24/25 [00:20<00:00,  1.16it/s]\u001B[A\n",
      "Iteration: 100%|██████████| 25/25 [00:21<00:00,  1.17it/s]\u001B[A\n",
      "Epoch:  90%|█████████ | 9/10 [03:12<00:21, 21.47s/it]\n",
      "Iteration:   0%|          | 0/25 [00:00<?, ?it/s]\u001B[A\n",
      "Iteration:   4%|▍         | 1/25 [00:01<00:24,  1.02s/it]\u001B[A\n",
      "Iteration:   8%|▊         | 2/25 [00:02<00:24,  1.07s/it]\u001B[A\n",
      "Iteration:  12%|█▏        | 3/25 [00:03<00:23,  1.09s/it]\u001B[A\n",
      "Iteration:  16%|█▌        | 4/25 [00:04<00:22,  1.07s/it]\u001B[A\n",
      "Iteration:  20%|██        | 5/25 [00:06<00:24,  1.23s/it]\u001B[A\n",
      "Iteration:  24%|██▍       | 6/25 [00:06<00:22,  1.17s/it]\u001B[A\n",
      "Iteration:  28%|██▊       | 7/25 [00:07<00:19,  1.09s/it]\u001B[A\n",
      "Iteration:  32%|███▏      | 8/25 [00:08<00:18,  1.09s/it]\u001B[A\n",
      "Iteration:  36%|███▌      | 9/25 [00:09<00:17,  1.10s/it]\u001B[A\n",
      "Iteration:  40%|████      | 10/25 [00:10<00:15,  1.04s/it]\u001B[A\n",
      "Iteration:  44%|████▍     | 11/25 [00:11<00:14,  1.01s/it]\u001B[A\n",
      "Iteration:  48%|████▊     | 12/25 [00:11<00:12,  1.04it/s]\u001B[A\n",
      "Iteration:  52%|█████▏    | 13/25 [00:12<00:11,  1.05it/s]\u001B[A\n",
      "Iteration:  56%|█████▌    | 14/25 [00:13<00:10,  1.06it/s]\u001B[A\n",
      "Iteration:  60%|██████    | 15/25 [00:15<00:09,  1.00it/s]\u001B[A\n",
      "Iteration:  64%|██████▍   | 16/25 [00:16<00:08,  1.01it/s]\u001B[A\n",
      "Iteration:  68%|██████▊   | 17/25 [00:16<00:07,  1.03it/s]\u001B[A\n",
      "Iteration:  72%|███████▏  | 18/25 [00:17<00:06,  1.02it/s]\u001B[A\n",
      "Iteration:  76%|███████▌  | 19/25 [00:18<00:05,  1.04it/s]\u001B[A\n",
      "Iteration:  80%|████████  | 20/25 [00:19<00:04,  1.07it/s]\u001B[A\n",
      "Iteration:  84%|████████▍ | 21/25 [00:20<00:03,  1.08it/s]\u001B[A\n",
      "Iteration:  88%|████████▊ | 22/25 [00:20<00:02,  1.11it/s]\u001B[A\n",
      "Iteration:  92%|█████████▏| 23/25 [00:21<00:01,  1.12it/s]\u001B[A\n",
      "Iteration:  96%|█████████▌| 24/25 [00:22<00:00,  1.08it/s]\u001B[A\n",
      "Iteration: 100%|██████████| 25/25 [00:23<00:00,  1.05it/s]\u001B[A\n",
      "Epoch: 100%|██████████| 10/10 [03:37<00:00, 21.74s/it]\n"
     ]
    }
   ],
   "source": [
    "from sentence_transformers import InputExample\n",
    "from torch.utils.data import DataLoader\n",
    "from sentence_transformers import losses\n",
    "from sentence_transformers.evaluation import BinaryClassificationEvaluator\n",
    "\n",
    "# shuffle\n",
    "dataset = dataset.shuffle(seed=42)\n",
    "\n",
    "# 数据集构造\n",
    "examples = []\n",
    "for i in range(dataset.num_rows):\n",
    "    example = dataset[i]\n",
    "    examples.append(InputExample(\n",
    "        texts=[example[\"question1\"], example[\"question2\"]],\n",
    "        label=example[\"label\"]\n",
    "    ))\n",
    "\n",
    "# 数据集划分\n",
    "train_examples = examples[:int(len(examples) * 0.8)]\n",
    "dev_examples = examples[int(len(examples) * 0.8):]\n",
    "\n",
    "# 转换为DataLoader形式\n",
    "train_dataloader = DataLoader(\n",
    "    train_examples,\n",
    "    shuffle=True,\n",
    "    batch_size=32\n",
    ")\n",
    "\n",
    "# 实例化损失函数\n",
    "train_loss = losses.ContrastiveLoss(model=model)\n",
    "# 实例化evaluator用于评估数据集上的效果\n",
    "evaluator = BinaryClassificationEvaluator.from_input_examples(dev_examples, name=\"med-dev\")\n",
    "# 定义模型保存路径\n",
    "model_save_path = \"./medical_bge_small\"\n",
    "# 微调模型\n",
    "model.fit(\n",
    "    [(train_dataloader, train_loss)],\n",
    "    evaluator=evaluator,\n",
    "    epochs=10,\n",
    "    output_path=model_save_path\n",
    ")"
   ]
  },
  {
   "cell_type": "code",
   "execution_count": 27,
   "metadata": {
    "ExecuteTime": {
     "end_time": "2025-05-26T13:45:34.524672Z",
     "start_time": "2025-05-26T13:45:34.420414Z"
    }
   },
   "outputs": [
    {
     "data": {
      "image/png": "[encoded data removed]",
      "text/plain": [
       "<Figure size 1000x600 with 1 Axes>"
      ]
     },
     "metadata": {},
     "output_type": "display_data"
    }
   ],
   "source": [
    "# 效果评估\n",
    "import pandas as pd\n",
    "from matplotlib import pyplot as plt\n",
    "\n",
    "eval_small_df = pd.read_csv(\"./medical_bge_small/eval/binary_classification_evaluation_med-dev_results.csv\")\n",
    "plt.figure(figsize=(10, 6))\n",
    "plt.plot(eval_small_df[\"epoch\"], eval_small_df[\"cossim_accuracy\"], label=\"medical_bge_small\")\n",
    "plt.xlabel(\"Epoch\")\n",
    "plt.ylabel(\"cossim_accuracy\")\n",
    "plt.ylim([0.88, 0.90])\n",
    "plt.legend()\n",
    "plt.show()"
   ]
  },
  {
   "cell_type": "markdown",
   "metadata": {},
   "source": [
    "# 二、使用LLM构建数据集"
   ]
  },
  {
   "cell_type": "code",
   "execution_count": 28,
   "metadata": {
    "ExecuteTime": {
     "end_time": "2025-05-26T13:51:08.285049Z",
     "start_time": "2025-05-26T13:51:05.666066Z"
    }
   },
   "outputs": [],
   "source": [
    "# 加载数据\n",
    "from langchain.document_loaders.pdf import PyMuPDFLoader\n",
    "\n",
    "loader = PyMuPDFLoader(\"../data_base/knowledge_db/pumkin_book/pumpkin_book.pdf\")\n",
    "\n",
    "pdf_pages = loader.load()\n",
    "\n",
    "train_pages = pdf_pages[13:15]"
   ]
  },
  {
   "cell_type": "code",
   "execution_count": 29,
   "metadata": {
    "ExecuteTime": {
     "end_time": "2025-05-26T13:53:25.072302Z",
     "start_time": "2025-05-26T13:53:25.066498Z"
    }
   },
   "outputs": [],
   "source": [
    "# 数据清洗\n",
    "import re\n",
    "\n",
    "def clean_text(text: str) -> str:\n",
    "    # 删除每页开头与结尾标语及链接\n",
    "    text = re.sub(r'→_→\\n欢迎去各大电商平台选购纸质版南瓜书《机器学习公式详解》\\n←_←', '', text)\n",
    "    text = re.sub(r'→_→\\n配套视频教程：https://www.bilibili.com/video/BV1Mh411e7VU\\n←_←', '', text)\n",
    "\n",
    "    # 删除字符串开头的空格\n",
    "    text = re.sub(r'\\s+', '', text)\n",
    "\n",
    "    # 删除回车\n",
    "    text = re.sub(r'\\n+', '', text)\n",
    "\n",
    "    return text\n",
    "\n",
    "for page in train_pages:\n",
    "    page.page_content = clean_text(page.page_content)"
   ]
  },
  {
   "cell_type": "code",
   "metadata": {
    "ExecuteTime": {
     "end_time": "2025-05-26T14:27:38.668297Z",
     "start_time": "2025-05-26T14:27:01.651185Z"
    }
   },
   "source": [
    "import generate_qa_pairs\n",
    "import importlib\n",
    "importlib.reload(generate_qa_pairs)\n",
    "\n",
    "qa_pairs = generate_qa_pairs.docs_generate_qa_pairs(docs=train_pages, model=\"deepseek\")"
   ],
   "outputs": [
    {
     "name": "stderr",
     "output_type": "stream",
     "text": [
      " 50%|█████     | 1/2 [00:14<00:14, 14.88s/it]"
     ]
    },
    {
     "name": "stdout",
     "output_type": "stream",
     "text": [
      "问题1：  \n",
      "问题：在机器学习中，“算法”和“模型”有什么区别？请结合上下文中的具体例子说明。  \n",
      "\n",
      "原文内容1：  \n",
      "“算法”是指从数据中学得“模型”的具体方法，例如后续章节中将会讲述的线性回归、对数几率回归、决策树等。“算法”产出的结果称为“模型”，通常是具体的函数或者可抽象地看作为函数，例如一元线性回归算法产出的模型即为形如f(x)=wx+b的一元一次函数。不过由于严格区分这两者的意义不大，因此多数文献和资料会将其混用，当遇到这两个概念时，其具体指代根据上下文判断即可。  \n",
      "\n",
      "---  \n",
      "\n",
      "问题2：  \n",
      "问题：在机器学习中，样本的向量表示为什么通常需要数值化？请结合上下文中的例子解释。  \n",
      "\n",
      "原文内容2：  \n",
      "显然，用中文书写向量的方式不够“数学”，因此需要将属性值进一步数值化，具体例子参见“西瓜书”第3章3.2。此外，仅靠以上3个特征来刻画西瓜显然不够全面细致，因此还需要扩展更多维度的特征，一般称此类与特征处理相关的工作为“特征工程”。\n",
      "----------------------------------------------------------------------------------------------------\n",
      "{'query': '问题：在机器学习中，“算法”和“模型”有什么区别？请结合上下文中的具体例子说明。', 'answer': '“算法”是指从数据中学得“模型”的具体方法，例如后续章节中将会讲述的线性回归、对数几率回归、决策树等。“算法”产出的结果称为“模型”，通常是具体的函数或者可抽象地看作为函数，例如一元线性回归算法产出的模型即为形如f(x)=wx+b的一元一次函数。不过由于严格区分这两者的意义不大，因此多数文献和资料会将其混用，当遇到这两个概念时，其具体指代根据上下文判断即可。  \\n\\n---'}\n",
      "----------------------------------------------------------------------------------------------------\n",
      "{'query': '问题：在机器学习中，样本的向量表示为什么通常需要数值化？请结合上下文中的例子解释。', 'answer': '显然，用中文书写向量的方式不够“数学”，因此需要将属性值进一步数值化，具体例子参见“西瓜书”第3章3.2。此外，仅靠以上3个特征来刻画西瓜显然不够全面细致，因此还需要扩展更多维度的特征，一般称此类与特征处理相关的工作为“特征工程”。'}\n",
      "----------------------------------------------------------------------------------------------------\n"
     ]
    },
    {
     "name": "stderr",
     "output_type": "stream",
     "text": [
      "100%|██████████| 2/2 [00:36<00:00, 18.35s/it]"
     ]
    },
    {
     "name": "stdout",
     "output_type": "stream",
     "text": [
      "问题1：  \n",
      "**问题**：根据上下文，什么是机器学习中的“标记”？请举例说明分类任务和回归任务中标记的不同取值类型及其对应的数学表示。  \n",
      "\n",
      "**原文内容1**：  \n",
      "\"标记：上文提到机器学习的本质就是在学习样本在某个方面的表现是否存在潜在的规律，我们称该方面的信息为“标记”。例如在学习西瓜的好坏时，“好瓜”和“坏瓜”便是样本的标记。一般第i个样本的标记的数学表示为yi，标记所在的空间称为“标记空间”或“输出空间”，数学表示为花式大写的Y。...  \n",
      "•当标记取值为离散型时，称此类任务为“分类”...例如对于二分类任务，通常将正类记为1，反类记为0，即Y={0,1}...支持向量机算法则采用的是Y={−1,+1}；  \n",
      "•当标记取值为连续型时，称此类任务为“回归”...回归任务的标记取值范围通常是整个实数域R，即Y=R。\"  \n",
      "\n",
      "---  \n",
      "\n",
      "问题2：  \n",
      "**问题**：上下文中提到的“泛化能力”是什么？结合西瓜分类的示例，对比模型fa(x)和fb(x)的泛化能力差异，并分析导致这种差异的原因。  \n",
      "\n",
      "**原文内容2**：  \n",
      "\"泛化：由于机器学习的目标是根据已知来对未知做出尽可能准确的判断，因此对未知事物判断的准确与否才是衡量一个模型好坏的关键，我们称此为“泛化”能力。例如学习西瓜好坏时...模型fa(x)学到的规律是“色泽等于青绿、乌黑或者浅白时，同时根蒂蜷缩即为好瓜，否则便是坏瓜”...模型fb(x)学到的规律是“只要根蒂蜷缩就是好瓜”...此时我们称模型fb(x)的泛化能力优于模型fa(x)。...导致此现象最直接的原因是算法的不同...数据便是导致此现象的另一重要原因，这也就是机器学习领域常说的“数据决定模型的上限，而算法则是让模型无限逼近上限”。\"\n",
      "----------------------------------------------------------------------------------------------------\n"
     ]
    },
    {
     "name": "stderr",
     "output_type": "stream",
     "text": [
      "\n"
     ]
    }
   ],
   "execution_count": 62
  },
  {
   "cell_type": "code",
   "metadata": {
    "ExecuteTime": {
     "end_time": "2025-05-26T14:27:38.679568Z",
     "start_time": "2025-05-26T14:27:38.675317Z"
    }
   },
   "source": [
    "for i in range(len(qa_pairs.qa_pairs)):\n",
    "    print('第{}个问题：{}'.format(i + 1, qa_pairs.qa_pairs[i]['query']))\n",
    "    print('第{}个答案：{}'.format(i + 1, qa_pairs.qa_pairs[i]['answer']), end='\\n\\n')"
   ],
   "outputs": [
    {
     "name": "stdout",
     "output_type": "stream",
     "text": [
      "第1个问题：问题：在机器学习中，“算法”和“模型”有什么区别？请结合上下文中的具体例子说明。\n",
      "第1个答案：“算法”是指从数据中学得“模型”的具体方法，例如后续章节中将会讲述的线性回归、对数几率回归、决策树等。“算法”产出的结果称为“模型”，通常是具体的函数或者可抽象地看作为函数，例如一元线性回归算法产出的模型即为形如f(x)=wx+b的一元一次函数。不过由于严格区分这两者的意义不大，因此多数文献和资料会将其混用，当遇到这两个概念时，其具体指代根据上下文判断即可。  \n",
      "\n",
      "---\n",
      "\n",
      "第2个问题：问题：在机器学习中，样本的向量表示为什么通常需要数值化？请结合上下文中的例子解释。\n",
      "第2个答案：显然，用中文书写向量的方式不够“数学”，因此需要将属性值进一步数值化，具体例子参见“西瓜书”第3章3.2。此外，仅靠以上3个特征来刻画西瓜显然不够全面细致，因此还需要扩展更多维度的特征，一般称此类与特征处理相关的工作为“特征工程”。\n",
      "\n"
     ]
    }
   ],
   "execution_count": 63
  },
  {
   "cell_type": "code",
   "metadata": {
    "ExecuteTime": {
     "end_time": "2025-05-26T14:27:38.860368Z",
     "start_time": "2025-05-26T14:27:38.856562Z"
    }
   },
   "source": "qa_pairs.save_json(\"train_dataset.json\")",
   "outputs": [],
   "execution_count": 64
  },
  {
   "cell_type": "code",
   "metadata": {
    "ExecuteTime": {
     "end_time": "2025-05-26T14:27:38.908977Z",
     "start_time": "2025-05-26T14:27:38.904687Z"
    }
   },
   "source": [
    "from generate_qa_pairs import QaPairs\n",
    "\n",
    "qa_pairs = QaPairs.from_json('train_dataset.json')"
   ],
   "outputs": [],
   "execution_count": 65
  },
  {
   "metadata": {
    "ExecuteTime": {
     "end_time": "2025-05-26T14:27:38.934053Z",
     "start_time": "2025-05-26T14:27:38.930011Z"
    }
   },
   "cell_type": "code",
   "source": [
    "# 将单个qa对转为InputExample并存入列表\n",
    "examples = [\n",
    "    InputExample(texts=[qa_pair[\"query\"], qa_pair[\"answer\"]]) for qa_pair in qa_pairs.qa_pairs\n",
    "]\n",
    "# 将数据集转换为DataLoader形式\n",
    "train_dataloader = DataLoader(train_examples, shuffle=True, batch_size=32)"
   ],
   "outputs": [],
   "execution_count": 66
  },
  {
   "metadata": {},
   "cell_type": "code",
   "outputs": [],
   "execution_count": null,
   "source": "\n"
  }
 ],
 "metadata": {
  "kernelspec": {
   "display_name": "Python 3 (ipykernel)",
   "language": "python",
   "name": "python3"
  },
  "language_info": {
   "name": "python"
  }
 },
 "nbformat": 4,
 "nbformat_minor": 2
}
